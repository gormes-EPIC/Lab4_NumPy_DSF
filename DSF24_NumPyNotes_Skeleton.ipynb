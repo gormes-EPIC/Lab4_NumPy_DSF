{
 "cells": [
  {
   "cell_type": "markdown",
   "metadata": {},
   "source": [
    "# NumPy Basics\n",
    "NumPy (short for Numerical Python) provides an efficient interface to store and operate on dense data buffers. In some ways, NumPy arrays are like Python's built-in `list` type, but NumPy arrays provide much more efficient storage and data operations as the arrays grow larger in size. \n",
    "\n",
    "### Resources\n",
    "- [Python Data Science Handbook](https://jakevdp.github.io/PythonDataScienceHandbook/02.00-introduction-to-numpy.html)\n",
    "- [NumPy Documentation](https://numpy.org/doc/stable/reference/index.html)\n",
    "- [NumPy basics notes](https://gist.github.com/ShibaniOtis/666ebd044d591793f1328f90d6359e79)\n",
    "- [Data types review and NumPy basics](https://github.com/richardfoltyn/python-statistics/blob/main/latex/unit02.pdf)"
   ]
  },
  {
   "cell_type": "markdown",
   "metadata": {},
   "source": [
    "### Importing NumPy\n",
    "Since NumPy is not part of the standard Python library, we have to import it. If it is not already installed, use pip to install it: `pip install numpy`. In the data science world, we typically import `numpy` as `np`."
   ]
  },
  {
   "cell_type": "code",
   "execution_count": null,
   "metadata": {},
   "outputs": [],
   "source": []
  },
  {
   "cell_type": "markdown",
   "metadata": {},
   "source": [
    "### Creating a NumPy array\n",
    "NumPy arrays are very similar to built-in lists and we can create them in a very similar way."
   ]
  },
  {
   "cell_type": "code",
   "execution_count": null,
   "metadata": {},
   "outputs": [],
   "source": []
  },
  {
   "cell_type": "markdown",
   "metadata": {},
   "source": [
    "But if we were to look at the type of both variables,"
   ]
  },
  {
   "cell_type": "code",
   "execution_count": null,
   "metadata": {},
   "outputs": [],
   "source": []
  },
  {
   "cell_type": "markdown",
   "metadata": {},
   "source": [
    "This is pretty clunky, so we typically combine these lines."
   ]
  },
  {
   "cell_type": "code",
   "execution_count": null,
   "metadata": {},
   "outputs": [],
   "source": []
  },
  {
   "cell_type": "markdown",
   "metadata": {},
   "source": [
    "This is exactly the same for multidimensional arrays."
   ]
  },
  {
   "cell_type": "code",
   "execution_count": null,
   "metadata": {},
   "outputs": [],
   "source": []
  },
  {
   "cell_type": "markdown",
   "metadata": {},
   "source": [
    "There are many more ways to create specific arrays with NumPy (arrays of all 0s, arrays with random values, arrays of null values, etc.) [Array creation documentation here](https://numpy.org/doc/stable/reference/routines.array-creation.html). Those routines can be really powerful tools and we will get there, but let's stick with our simple arrays for now."
   ]
  },
  {
   "cell_type": "markdown",
   "metadata": {},
   "source": [
    "### Why NumPy arrays?\n",
    "\n",
    "If NumPy arrays work the same as lists for the most part, then why are we even bothering with them at all?\n",
    "\n",
    "Well, understanding how data is stored and manipulated is paramount to doing so efficiently. Since data scientists are often working with huge datasets, they are very intentional about the ways they choose to manipulate data. The differences between how Python stores data by default, in contrast to packages like NumPy or Pandas, are important nuances.\n",
    "\n",
    "Python is a popular programming language in part because it's easy to use. One major difference between Python and other languages like C or Java is its *dynamic typing*. \n",
    "\n",
    "When you create a variable in Python, you can assign it a value of any data type(int, String, etc.) without having to declare the variable as a specific type. Later in your program, you can also reassign the variable to a different data type.\n",
    "\n",
    "While this may be a valid Python program:\n",
    "```python\n",
    "x = 4\n",
    "x = \"four\"\n",
    "```\n",
    "\n",
    "This same logic would cause an error in Java:\n",
    "```java\n",
    "int x = 4;\n",
    "x = \"four\"; //throws Type mismatch\n",
    "```\n",
    "\n",
    "This flexibility makes Python easy to use, but also means that the Python interpreter is doing extra work behind the scenes to make this possible. Under the hood, the Python interpreter and the Python programs you create are written and compiled in C. This means everything you create in Python is really a C structure. **Variables in Python take up additional space compared to variables in both Java or C because they must store the data type, value itself, and other information.** [source](https://jakevdp.github.io/PythonDataScienceHandbook/02.01-understanding-data-types.html)"
   ]
  },
  {
   "cell_type": "markdown",
   "metadata": {},
   "source": [
    "### How are NumPy arrays different?\n",
    "Just as Python variables have dynamic types, elements of lists in Python have dynamic types. \n",
    "\n",
    "Meaning a Python list can contain multiple types like this:\n",
    "```python\n",
    "list = [True, \"2\", 3.0, 4]\n",
    "[type(item) for item in L3]\n",
    "# prints [bool, str, float, int]\n",
    "```\n",
    "\n",
    "In order to do this, the underlying C compiler must account for multiple data types and stores additional information about each element. \n",
    "\n",
    "The fixed-type NumPy arrays lack the same flexibility, but are able to store information much more efficiently. **NumPy arrays are much more similar to Java and C arrays in their efficient implementation.**\n",
    "\n",
    "For large projects with lots of data, these differences make a huge impact."
   ]
  },
  {
   "cell_type": "markdown",
   "metadata": {},
   "source": [
    "### Matrix vocabulary\n",
    "Since NumPy is used by a lot of mathematicians and data scientists, it has a lot of built-in matrix functionality. This means the way we are going to talk about our arrays is going to be the same vocabulary we use to talk about matrices which is probably new to you!\n",
    "\n",
    "- *row* - group data horizontally\n",
    "- *column* - group data vertically\n",
    "- *dimensions or shape of a matrix* - the number of rows by the number of columns\n",
    "- *size of a matrix*  - the number of elements\n",
    "- *scalar* - not a vector or matrix value, a number like 4 or 72\n",
    "- *vector* - matrix with one column (or one row)\n"
   ]
  },
  {
   "cell_type": "markdown",
   "metadata": {},
   "source": [
    "### About NumPy arrays\n",
    "There are a few different ways we can get information about the shape of our arrays. Since we are no longer working with lists, `len()` is no longer going to work."
   ]
  },
  {
   "cell_type": "code",
   "execution_count": 1,
   "metadata": {},
   "outputs": [
    {
     "name": "stdout",
     "output_type": "stream",
     "text": [
      "\n",
      "Returns a tuple with the size of each dimension\n",
      "\n",
      "Show the array size\n"
     ]
    }
   ],
   "source": [
    "print(\"\\nReturns a tuple with the size of each dimension\")\n",
    "\n",
    "\n",
    "print(\"\\nShow the array size\")\n",
    "\n"
   ]
  },
  {
   "cell_type": "markdown",
   "metadata": {},
   "source": [
    "### Accessing elements\n",
    "We can access elements in  NumPy arrays exactly the same way as lists. "
   ]
  },
  {
   "cell_type": "code",
   "execution_count": 2,
   "metadata": {},
   "outputs": [
    {
     "name": "stdout",
     "output_type": "stream",
     "text": [
      "Get the third element of np_array\n",
      "\n",
      "Get the element in the second row and the third column\n"
     ]
    }
   ],
   "source": [
    "print(\"Get the third element of np_array\")\n",
    "\n",
    "\n",
    "\n",
    "print(\"\\nGet the element in the second row and the third column\")\n",
    "\n"
   ]
  },
  {
   "cell_type": "markdown",
   "metadata": {},
   "source": [
    "### Slicing\n",
    "We haven't done too much with slicing but it can be a really powerful tool.\n",
    "\n",
    "Some basic rules are\n",
    "- We can create a slice with the format `start:stop:step`\n",
    "- You can leave any those blank and it wil default to the size of the array\n",
    "- The `stop` value is not inclusive!\n",
    "- Any of the three values could be negative\n",
    "    - If `start` or `stop` are negative, we start counting from the end of the array\n",
    "    - If `step ` is negative, the order of the elements is reversed"
   ]
  },
  {
   "cell_type": "code",
   "execution_count": 3,
   "metadata": {},
   "outputs": [
    {
     "name": "stdout",
     "output_type": "stream",
     "text": [
      "Get the element on the first row and first and second columns\n"
     ]
    }
   ],
   "source": [
    "print(\"Get the element on the first row and first and second columns\")\n"
   ]
  },
  {
   "cell_type": "markdown",
   "metadata": {},
   "source": [
    "### Matrix operations\n",
    "Using NumPy arrays we can easily do simple matrix operations.\n",
    "\n",
    "\n",
    "**Matrix addition:** Add two arrays of the same dimensions together elementwise."
   ]
  },
  {
   "cell_type": "code",
   "execution_count": null,
   "metadata": {},
   "outputs": [],
   "source": []
  },
  {
   "cell_type": "markdown",
   "metadata": {},
   "source": [
    "**Scalar multiplication:** Multiply every element in the matrix by a scalar value."
   ]
  },
  {
   "cell_type": "code",
   "execution_count": null,
   "metadata": {},
   "outputs": [],
   "source": []
  },
  {
   "cell_type": "markdown",
   "metadata": {},
   "source": [
    "**Matrix multiplication:** Multiply two arrays of the same dimensions together elementwise."
   ]
  },
  {
   "cell_type": "code",
   "execution_count": null,
   "metadata": {},
   "outputs": [],
   "source": []
  },
  {
   "cell_type": "markdown",
   "metadata": {},
   "source": [
    "### Creating arrays\n",
    "There are a lot of different ways to easily create arrays that have some pattern to their values, whether they are all the same or only exist on the diagonal, etc.\n",
    "\n",
    "Let's take a look at a few of them now."
   ]
  },
  {
   "cell_type": "code",
   "execution_count": 4,
   "metadata": {},
   "outputs": [
    {
     "name": "stdout",
     "output_type": "stream",
     "text": [
      "Create a 1x4 array with the values 0-3\n",
      "\n",
      "Create a 2x2 array with zero for all values\n",
      "\n",
      "Create a 3x3 array with one for all values\n",
      "\n",
      "Create a 5x2 array of 3s\n",
      "\n",
      "Create the identity matrix of size 4\n"
     ]
    }
   ],
   "source": [
    "print(\"Create a 1x4 array with the values 0-3\")\n",
    "\n",
    "\n",
    "\n",
    "print(\"\\nCreate a 2x2 array with zero for all values\")\n",
    "\n",
    "\n",
    "print(\"\\nCreate a 3x3 array with one for all values\")\n",
    "\n",
    "\n",
    "print(\"\\nCreate a 5x2 array of 3s\")\n",
    "\n",
    "\n",
    "print(\"\\nCreate the identity matrix of size 4\")\n",
    "\n"
   ]
  },
  {
   "cell_type": "markdown",
   "metadata": {},
   "source": [
    "### Reshaping arrays\n",
    "The `reshape()` function of an array can be used to reshape it into another \"comfortable\" shape."
   ]
  },
  {
   "cell_type": "code",
   "execution_count": 5,
   "metadata": {},
   "outputs": [
    {
     "name": "stdout",
     "output_type": "stream",
     "text": [
      "Reshape a vector of 0-3 to a 2x2 matrix\n",
      "\n",
      "Reshape it back into a vector\n"
     ]
    }
   ],
   "source": [
    "print(\"Reshape a vector of 0-3 to a 2x2 matrix\")\n",
    "\n",
    "\n",
    "\n",
    "print(\"\\nReshape it back into a vector\")\n"
   ]
  },
  {
   "cell_type": "markdown",
   "metadata": {},
   "source": [
    "The reshaped matrix must have the same number of elements as the original!"
   ]
  },
  {
   "cell_type": "code",
   "execution_count": null,
   "metadata": {},
   "outputs": [],
   "source": []
  },
  {
   "cell_type": "markdown",
   "metadata": {},
   "source": [
    "## Matplotlib\n",
    "We will talk about Matplotlib much more later in this course, but for the next lab we are going to use it to display images."
   ]
  },
  {
   "cell_type": "code",
   "execution_count": null,
   "metadata": {},
   "outputs": [],
   "source": [
    "print(\"Import matplotlib\")\n",
    "\n",
    "\n",
    "print(\"Create an array of an image\")\n",
    "\n",
    "\n",
    "print(\"Display the image to the terminal\")\n"
   ]
  }
 ],
 "metadata": {
  "kernelspec": {
   "display_name": "base",
   "language": "python",
   "name": "python3"
  },
  "language_info": {
   "codemirror_mode": {
    "name": "ipython",
    "version": 3
   },
   "file_extension": ".py",
   "mimetype": "text/x-python",
   "name": "python",
   "nbconvert_exporter": "python",
   "pygments_lexer": "ipython3",
   "version": "3.11.5"
  }
 },
 "nbformat": 4,
 "nbformat_minor": 2
}
